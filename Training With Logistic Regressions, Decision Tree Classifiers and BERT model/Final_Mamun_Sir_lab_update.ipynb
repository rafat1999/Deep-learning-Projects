{
  "nbformat": 4,
  "nbformat_minor": 0,
  "metadata": {
    "colab": {
      "provenance": [],
      "gpuType": "T4"
    },
    "kernelspec": {
      "name": "python3",
      "display_name": "Python 3"
    },
    "language_info": {
      "name": "python"
    },
    "accelerator": "GPU"
  },
  "cells": [
    {
      "cell_type": "code",
      "source": [
        "! pip install transformers"
      ],
      "metadata": {
        "colab": {
          "base_uri": "https://localhost:8080/"
        },
        "id": "hM6TNGqmVfYn",
        "outputId": "7a6de678-8e17-45cb-b797-cad731a51bea"
      },
      "execution_count": 1,
      "outputs": [
        {
          "output_type": "stream",
          "name": "stdout",
          "text": [
            "Requirement already satisfied: transformers in /usr/local/lib/python3.10/dist-packages (4.33.1)\n",
            "Requirement already satisfied: filelock in /usr/local/lib/python3.10/dist-packages (from transformers) (3.12.2)\n",
            "Requirement already satisfied: huggingface-hub<1.0,>=0.15.1 in /usr/local/lib/python3.10/dist-packages (from transformers) (0.17.1)\n",
            "Requirement already satisfied: numpy>=1.17 in /usr/local/lib/python3.10/dist-packages (from transformers) (1.23.5)\n",
            "Requirement already satisfied: packaging>=20.0 in /usr/local/lib/python3.10/dist-packages (from transformers) (23.1)\n",
            "Requirement already satisfied: pyyaml>=5.1 in /usr/local/lib/python3.10/dist-packages (from transformers) (6.0.1)\n",
            "Requirement already satisfied: regex!=2019.12.17 in /usr/local/lib/python3.10/dist-packages (from transformers) (2023.6.3)\n",
            "Requirement already satisfied: requests in /usr/local/lib/python3.10/dist-packages (from transformers) (2.31.0)\n",
            "Requirement already satisfied: tokenizers!=0.11.3,<0.14,>=0.11.1 in /usr/local/lib/python3.10/dist-packages (from transformers) (0.13.3)\n",
            "Requirement already satisfied: safetensors>=0.3.1 in /usr/local/lib/python3.10/dist-packages (from transformers) (0.3.3)\n",
            "Requirement already satisfied: tqdm>=4.27 in /usr/local/lib/python3.10/dist-packages (from transformers) (4.66.1)\n",
            "Requirement already satisfied: fsspec in /usr/local/lib/python3.10/dist-packages (from huggingface-hub<1.0,>=0.15.1->transformers) (2023.6.0)\n",
            "Requirement already satisfied: typing-extensions>=3.7.4.3 in /usr/local/lib/python3.10/dist-packages (from huggingface-hub<1.0,>=0.15.1->transformers) (4.5.0)\n",
            "Requirement already satisfied: charset-normalizer<4,>=2 in /usr/local/lib/python3.10/dist-packages (from requests->transformers) (3.2.0)\n",
            "Requirement already satisfied: idna<4,>=2.5 in /usr/local/lib/python3.10/dist-packages (from requests->transformers) (3.4)\n",
            "Requirement already satisfied: urllib3<3,>=1.21.1 in /usr/local/lib/python3.10/dist-packages (from requests->transformers) (2.0.4)\n",
            "Requirement already satisfied: certifi>=2017.4.17 in /usr/local/lib/python3.10/dist-packages (from requests->transformers) (2023.7.22)\n"
          ]
        }
      ]
    },
    {
      "cell_type": "code",
      "source": [
        "from tensorflow.keras.models import Model, Sequential\n",
        "from tensorflow.keras.layers import Dense, Dropout, Flatten, Conv2D, MaxPooling2D,Input\n",
        "from tensorflow.keras.callbacks import EarlyStopping\n",
        "from tensorflow.python.ops.numpy_ops import np_utils\n",
        "from transformers import BertModel, TFBertModel\n",
        "import tensorflow as tf\n",
        "from tensorflow.keras.optimizers import Adam\n",
        "from transformers import BertTokenizer, TFBertModel\n",
        "from tensorflow.keras import regularizers\n",
        "from sklearn.metrics import classification_report\n",
        "from sklearn.metrics import confusion_matrix"
      ],
      "metadata": {
        "id": "q7lWP3gGVYIO"
      },
      "execution_count": 2,
      "outputs": []
    },
    {
      "cell_type": "code",
      "source": [
        "import pandas as pd\n",
        "import seaborn as sns\n",
        "import matplotlib.pyplot as plt\n"
      ],
      "metadata": {
        "id": "mz3OgMyx9Qig"
      },
      "execution_count": 3,
      "outputs": []
    },
    {
      "cell_type": "code",
      "source": [
        "data = pd.read_csv('New-Microsoft-Excel-Worksheet.csv')\n",
        "data.head()"
      ],
      "metadata": {
        "colab": {
          "base_uri": "https://localhost:8080/",
          "height": 206
        },
        "id": "LEII6nM093qA",
        "outputId": "cc210c73-aa86-456b-95f4-ebf5b17a14ea"
      },
      "execution_count": 4,
      "outputs": [
        {
          "output_type": "execute_result",
          "data": {
            "text/plain": [
              "                                            Tcontent  class\n",
              "0  Networks  in  the  real  world  come  in  vari...      0\n",
              "1  In the tangible realm, networks take on divers...      1\n",
              "2  Networks in the real world come in various big...      0\n",
              "3  In the realm of reality, networks manifest in ...      1\n",
              "4  Such  a  complex  network  is  found  in  the ...      0"
            ],
            "text/html": [
              "\n",
              "  <div id=\"df-993107da-5036-435f-a9fb-96c6a719f07b\" class=\"colab-df-container\">\n",
              "    <div>\n",
              "<style scoped>\n",
              "    .dataframe tbody tr th:only-of-type {\n",
              "        vertical-align: middle;\n",
              "    }\n",
              "\n",
              "    .dataframe tbody tr th {\n",
              "        vertical-align: top;\n",
              "    }\n",
              "\n",
              "    .dataframe thead th {\n",
              "        text-align: right;\n",
              "    }\n",
              "</style>\n",
              "<table border=\"1\" class=\"dataframe\">\n",
              "  <thead>\n",
              "    <tr style=\"text-align: right;\">\n",
              "      <th></th>\n",
              "      <th>Tcontent</th>\n",
              "      <th>class</th>\n",
              "    </tr>\n",
              "  </thead>\n",
              "  <tbody>\n",
              "    <tr>\n",
              "      <th>0</th>\n",
              "      <td>Networks  in  the  real  world  come  in  vari...</td>\n",
              "      <td>0</td>\n",
              "    </tr>\n",
              "    <tr>\n",
              "      <th>1</th>\n",
              "      <td>In the tangible realm, networks take on divers...</td>\n",
              "      <td>1</td>\n",
              "    </tr>\n",
              "    <tr>\n",
              "      <th>2</th>\n",
              "      <td>Networks in the real world come in various big...</td>\n",
              "      <td>0</td>\n",
              "    </tr>\n",
              "    <tr>\n",
              "      <th>3</th>\n",
              "      <td>In the realm of reality, networks manifest in ...</td>\n",
              "      <td>1</td>\n",
              "    </tr>\n",
              "    <tr>\n",
              "      <th>4</th>\n",
              "      <td>Such  a  complex  network  is  found  in  the ...</td>\n",
              "      <td>0</td>\n",
              "    </tr>\n",
              "  </tbody>\n",
              "</table>\n",
              "</div>\n",
              "    <div class=\"colab-df-buttons\">\n",
              "\n",
              "  <div class=\"colab-df-container\">\n",
              "    <button class=\"colab-df-convert\" onclick=\"convertToInteractive('df-993107da-5036-435f-a9fb-96c6a719f07b')\"\n",
              "            title=\"Convert this dataframe to an interactive table.\"\n",
              "            style=\"display:none;\">\n",
              "\n",
              "  <svg xmlns=\"http://www.w3.org/2000/svg\" height=\"24px\" viewBox=\"0 -960 960 960\">\n",
              "    <path d=\"M120-120v-720h720v720H120Zm60-500h600v-160H180v160Zm220 220h160v-160H400v160Zm0 220h160v-160H400v160ZM180-400h160v-160H180v160Zm440 0h160v-160H620v160ZM180-180h160v-160H180v160Zm440 0h160v-160H620v160Z\"/>\n",
              "  </svg>\n",
              "    </button>\n",
              "\n",
              "  <style>\n",
              "    .colab-df-container {\n",
              "      display:flex;\n",
              "      gap: 12px;\n",
              "    }\n",
              "\n",
              "    .colab-df-convert {\n",
              "      background-color: #E8F0FE;\n",
              "      border: none;\n",
              "      border-radius: 50%;\n",
              "      cursor: pointer;\n",
              "      display: none;\n",
              "      fill: #1967D2;\n",
              "      height: 32px;\n",
              "      padding: 0 0 0 0;\n",
              "      width: 32px;\n",
              "    }\n",
              "\n",
              "    .colab-df-convert:hover {\n",
              "      background-color: #E2EBFA;\n",
              "      box-shadow: 0px 1px 2px rgba(60, 64, 67, 0.3), 0px 1px 3px 1px rgba(60, 64, 67, 0.15);\n",
              "      fill: #174EA6;\n",
              "    }\n",
              "\n",
              "    .colab-df-buttons div {\n",
              "      margin-bottom: 4px;\n",
              "    }\n",
              "\n",
              "    [theme=dark] .colab-df-convert {\n",
              "      background-color: #3B4455;\n",
              "      fill: #D2E3FC;\n",
              "    }\n",
              "\n",
              "    [theme=dark] .colab-df-convert:hover {\n",
              "      background-color: #434B5C;\n",
              "      box-shadow: 0px 1px 3px 1px rgba(0, 0, 0, 0.15);\n",
              "      filter: drop-shadow(0px 1px 2px rgba(0, 0, 0, 0.3));\n",
              "      fill: #FFFFFF;\n",
              "    }\n",
              "  </style>\n",
              "\n",
              "    <script>\n",
              "      const buttonEl =\n",
              "        document.querySelector('#df-993107da-5036-435f-a9fb-96c6a719f07b button.colab-df-convert');\n",
              "      buttonEl.style.display =\n",
              "        google.colab.kernel.accessAllowed ? 'block' : 'none';\n",
              "\n",
              "      async function convertToInteractive(key) {\n",
              "        const element = document.querySelector('#df-993107da-5036-435f-a9fb-96c6a719f07b');\n",
              "        const dataTable =\n",
              "          await google.colab.kernel.invokeFunction('convertToInteractive',\n",
              "                                                    [key], {});\n",
              "        if (!dataTable) return;\n",
              "\n",
              "        const docLinkHtml = 'Like what you see? Visit the ' +\n",
              "          '<a target=\"_blank\" href=https://colab.research.google.com/notebooks/data_table.ipynb>data table notebook</a>'\n",
              "          + ' to learn more about interactive tables.';\n",
              "        element.innerHTML = '';\n",
              "        dataTable['output_type'] = 'display_data';\n",
              "        await google.colab.output.renderOutput(dataTable, element);\n",
              "        const docLink = document.createElement('div');\n",
              "        docLink.innerHTML = docLinkHtml;\n",
              "        element.appendChild(docLink);\n",
              "      }\n",
              "    </script>\n",
              "  </div>\n",
              "\n",
              "\n",
              "<div id=\"df-4ab1df2a-9886-4d34-af60-51ea0fe86770\">\n",
              "  <button class=\"colab-df-quickchart\" onclick=\"quickchart('df-4ab1df2a-9886-4d34-af60-51ea0fe86770')\"\n",
              "            title=\"Suggest charts.\"\n",
              "            style=\"display:none;\">\n",
              "\n",
              "<svg xmlns=\"http://www.w3.org/2000/svg\" height=\"24px\"viewBox=\"0 0 24 24\"\n",
              "     width=\"24px\">\n",
              "    <g>\n",
              "        <path d=\"M19 3H5c-1.1 0-2 .9-2 2v14c0 1.1.9 2 2 2h14c1.1 0 2-.9 2-2V5c0-1.1-.9-2-2-2zM9 17H7v-7h2v7zm4 0h-2V7h2v10zm4 0h-2v-4h2v4z\"/>\n",
              "    </g>\n",
              "</svg>\n",
              "  </button>\n",
              "\n",
              "<style>\n",
              "  .colab-df-quickchart {\n",
              "      --bg-color: #E8F0FE;\n",
              "      --fill-color: #1967D2;\n",
              "      --hover-bg-color: #E2EBFA;\n",
              "      --hover-fill-color: #174EA6;\n",
              "      --disabled-fill-color: #AAA;\n",
              "      --disabled-bg-color: #DDD;\n",
              "  }\n",
              "\n",
              "  [theme=dark] .colab-df-quickchart {\n",
              "      --bg-color: #3B4455;\n",
              "      --fill-color: #D2E3FC;\n",
              "      --hover-bg-color: #434B5C;\n",
              "      --hover-fill-color: #FFFFFF;\n",
              "      --disabled-bg-color: #3B4455;\n",
              "      --disabled-fill-color: #666;\n",
              "  }\n",
              "\n",
              "  .colab-df-quickchart {\n",
              "    background-color: var(--bg-color);\n",
              "    border: none;\n",
              "    border-radius: 50%;\n",
              "    cursor: pointer;\n",
              "    display: none;\n",
              "    fill: var(--fill-color);\n",
              "    height: 32px;\n",
              "    padding: 0;\n",
              "    width: 32px;\n",
              "  }\n",
              "\n",
              "  .colab-df-quickchart:hover {\n",
              "    background-color: var(--hover-bg-color);\n",
              "    box-shadow: 0 1px 2px rgba(60, 64, 67, 0.3), 0 1px 3px 1px rgba(60, 64, 67, 0.15);\n",
              "    fill: var(--button-hover-fill-color);\n",
              "  }\n",
              "\n",
              "  .colab-df-quickchart-complete:disabled,\n",
              "  .colab-df-quickchart-complete:disabled:hover {\n",
              "    background-color: var(--disabled-bg-color);\n",
              "    fill: var(--disabled-fill-color);\n",
              "    box-shadow: none;\n",
              "  }\n",
              "\n",
              "  .colab-df-spinner {\n",
              "    border: 2px solid var(--fill-color);\n",
              "    border-color: transparent;\n",
              "    border-bottom-color: var(--fill-color);\n",
              "    animation:\n",
              "      spin 1s steps(1) infinite;\n",
              "  }\n",
              "\n",
              "  @keyframes spin {\n",
              "    0% {\n",
              "      border-color: transparent;\n",
              "      border-bottom-color: var(--fill-color);\n",
              "      border-left-color: var(--fill-color);\n",
              "    }\n",
              "    20% {\n",
              "      border-color: transparent;\n",
              "      border-left-color: var(--fill-color);\n",
              "      border-top-color: var(--fill-color);\n",
              "    }\n",
              "    30% {\n",
              "      border-color: transparent;\n",
              "      border-left-color: var(--fill-color);\n",
              "      border-top-color: var(--fill-color);\n",
              "      border-right-color: var(--fill-color);\n",
              "    }\n",
              "    40% {\n",
              "      border-color: transparent;\n",
              "      border-right-color: var(--fill-color);\n",
              "      border-top-color: var(--fill-color);\n",
              "    }\n",
              "    60% {\n",
              "      border-color: transparent;\n",
              "      border-right-color: var(--fill-color);\n",
              "    }\n",
              "    80% {\n",
              "      border-color: transparent;\n",
              "      border-right-color: var(--fill-color);\n",
              "      border-bottom-color: var(--fill-color);\n",
              "    }\n",
              "    90% {\n",
              "      border-color: transparent;\n",
              "      border-bottom-color: var(--fill-color);\n",
              "    }\n",
              "  }\n",
              "</style>\n",
              "\n",
              "  <script>\n",
              "    async function quickchart(key) {\n",
              "      const quickchartButtonEl =\n",
              "        document.querySelector('#' + key + ' button');\n",
              "      quickchartButtonEl.disabled = true;  // To prevent multiple clicks.\n",
              "      quickchartButtonEl.classList.add('colab-df-spinner');\n",
              "      try {\n",
              "        const charts = await google.colab.kernel.invokeFunction(\n",
              "            'suggestCharts', [key], {});\n",
              "      } catch (error) {\n",
              "        console.error('Error during call to suggestCharts:', error);\n",
              "      }\n",
              "      quickchartButtonEl.classList.remove('colab-df-spinner');\n",
              "      quickchartButtonEl.classList.add('colab-df-quickchart-complete');\n",
              "    }\n",
              "    (() => {\n",
              "      let quickchartButtonEl =\n",
              "        document.querySelector('#df-4ab1df2a-9886-4d34-af60-51ea0fe86770 button');\n",
              "      quickchartButtonEl.style.display =\n",
              "        google.colab.kernel.accessAllowed ? 'block' : 'none';\n",
              "    })();\n",
              "  </script>\n",
              "</div>\n",
              "    </div>\n",
              "  </div>\n"
            ]
          },
          "metadata": {},
          "execution_count": 4
        }
      ]
    },
    {
      "cell_type": "code",
      "source": [
        "data.shape"
      ],
      "metadata": {
        "colab": {
          "base_uri": "https://localhost:8080/"
        },
        "id": "kxhBZ91csCh_",
        "outputId": "1eb4876a-9d16-4809-eb11-b598b4e7d367"
      },
      "execution_count": 5,
      "outputs": [
        {
          "output_type": "execute_result",
          "data": {
            "text/plain": [
              "(447, 2)"
            ]
          },
          "metadata": {},
          "execution_count": 5
        }
      ]
    },
    {
      "cell_type": "code",
      "source": [
        "\n",
        "data.isnull().sum()"
      ],
      "metadata": {
        "colab": {
          "base_uri": "https://localhost:8080/"
        },
        "id": "xqyrKw0YuLgf",
        "outputId": "a599e68f-86ee-46bf-8ddc-85b92caf22b6"
      },
      "execution_count": 6,
      "outputs": [
        {
          "output_type": "execute_result",
          "data": {
            "text/plain": [
              "Tcontent    0\n",
              "class       0\n",
              "dtype: int64"
            ]
          },
          "metadata": {},
          "execution_count": 6
        }
      ]
    },
    {
      "cell_type": "code",
      "source": [
        "\n",
        "sns.countplot(data=data,\n",
        "              x='class',\n",
        "              order=data['class'].value_counts().index)"
      ],
      "metadata": {
        "colab": {
          "base_uri": "https://localhost:8080/",
          "height": 466
        },
        "id": "EFsFOWyPvD1j",
        "outputId": "767edbaf-2ce5-458f-9433-66f472c53c3d"
      },
      "execution_count": 7,
      "outputs": [
        {
          "output_type": "execute_result",
          "data": {
            "text/plain": [
              "<Axes: xlabel='class', ylabel='count'>"
            ]
          },
          "metadata": {},
          "execution_count": 7
        },
        {
          "output_type": "display_data",
          "data": {
            "text/plain": [
              "<Figure size 640x480 with 1 Axes>"
            ],
            "image/png": "[encoded data removed]"
          },
          "metadata": {}
        }
      ]
    },
    {
      "cell_type": "code",
      "source": [
        "from sklearn.model_selection import train_test_split\n",
        "from sklearn.metrics import accuracy_score\n",
        "from sklearn.linear_model import LogisticRegression\n",
        "\n",
        "x_train, x_test, y_train, y_test = train_test_split(data['Tcontent'],\n",
        "                                                    data['class'],\n",
        "                                                    test_size=0.3)"
      ],
      "metadata": {
        "id": "K5jSZBdG2BtZ"
      },
      "execution_count": 8,
      "outputs": []
    },
    {
      "cell_type": "code",
      "source": [
        "# Data Processing\n",
        "from sklearn.feature_extraction.text import TfidfVectorizer\n",
        "\n",
        "vectorization = TfidfVectorizer()\n",
        "x_train = vectorization.fit_transform(x_train)\n",
        "x_test = vectorization.transform(x_test)"
      ],
      "metadata": {
        "id": "RAPykjTF2If-"
      },
      "execution_count": 9,
      "outputs": []
    },
    {
      "cell_type": "code",
      "source": [
        "\n",
        "from sklearn.linear_model import LogisticRegression\n",
        "\n",
        "model = LogisticRegression()\n",
        "model.fit(x_train, y_train)\n",
        "print(accuracy_score(y_train, model.predict(x_train)))\n"
      ],
      "metadata": {
        "colab": {
          "base_uri": "https://localhost:8080/"
        },
        "id": "4do8-5Iu2M1C",
        "outputId": "9661b04b-31a7-4e54-faf5-29291c3f7d68"
      },
      "execution_count": 10,
      "outputs": [
        {
          "output_type": "stream",
          "name": "stdout",
          "text": [
            "0.967948717948718\n"
          ]
        }
      ]
    },
    {
      "cell_type": "code",
      "source": [
        "# testing the model\n",
        "\n",
        "print(accuracy_score(y_test, model.predict(x_test)))"
      ],
      "metadata": {
        "colab": {
          "base_uri": "https://localhost:8080/"
        },
        "id": "dujJWWi3FWcr",
        "outputId": "096848b5-e08c-4860-a11b-a101b8657fd6"
      },
      "execution_count": 11,
      "outputs": [
        {
          "output_type": "stream",
          "name": "stdout",
          "text": [
            "0.7777777777777778\n"
          ]
        }
      ]
    },
    {
      "cell_type": "code",
      "source": [
        "from sklearn.tree import DecisionTreeClassifier\n",
        "\n",
        "model = DecisionTreeClassifier()\n",
        "model.fit(x_train, y_train)\n",
        "print(accuracy_score(y_train, model.predict(x_train)))\n"
      ],
      "metadata": {
        "colab": {
          "base_uri": "https://localhost:8080/"
        },
        "id": "hP8QXQya2RSI",
        "outputId": "aa1fa7f9-9fa2-4fa7-c800-ad89e63aa1d1"
      },
      "execution_count": 12,
      "outputs": [
        {
          "output_type": "stream",
          "name": "stdout",
          "text": [
            "0.9935897435897436\n"
          ]
        }
      ]
    },
    {
      "cell_type": "code",
      "source": [
        "# testing the model\n",
        "\n",
        "print(accuracy_score(y_test, model.predict(x_test)))"
      ],
      "metadata": {
        "colab": {
          "base_uri": "https://localhost:8080/"
        },
        "id": "wvgmzBYbFbsS",
        "outputId": "56b1bf3d-65dc-471b-f399-0dc0afaefba1"
      },
      "execution_count": 13,
      "outputs": [
        {
          "output_type": "stream",
          "name": "stdout",
          "text": [
            "0.7407407407407407\n"
          ]
        }
      ]
    },
    {
      "cell_type": "code",
      "source": [
        "from sklearn import metrics\n",
        "cm = metrics.confusion_matrix(y_test, model.predict(x_test))\n",
        "\n",
        "cm_display = metrics.ConfusionMatrixDisplay(confusion_matrix=cm,\n",
        "                                            display_labels=['ORIGINAL', 'AI'])\n",
        "\n",
        "cm_display.plot()\n",
        "plt.show()"
      ],
      "metadata": {
        "colab": {
          "base_uri": "https://localhost:8080/",
          "height": 455
        },
        "id": "I_VFp0X82YLi",
        "outputId": "5746d454-b152-48c5-cf09-1afc0e88d6fe"
      },
      "execution_count": 14,
      "outputs": [
        {
          "output_type": "display_data",
          "data": {
            "text/plain": [
              "<Figure size 640x480 with 2 Axes>"
            ],
            "image/png": "[encoded data removed]"
          },
          "metadata": {}
        }
      ]
    },
    {
      "cell_type": "markdown",
      "source": [
        "Build model Using BERT\n"
      ],
      "metadata": {
        "id": "rTTq7d5rUz7X"
      }
    },
    {
      "cell_type": "code",
      "source": [
        "max_len=100\n",
        "data_text=data[\"Tcontent\"]\n",
        "data_label=data[\"class\"]"
      ],
      "metadata": {
        "id": "hBXQ6k6TWENd"
      },
      "execution_count": 15,
      "outputs": []
    },
    {
      "cell_type": "code",
      "source": [
        "bert_tokenizer = BertTokenizer.from_pretrained(\"bert-base-uncased\")"
      ],
      "metadata": {
        "id": "t_iqaN9sWaSj"
      },
      "execution_count": 16,
      "outputs": []
    },
    {
      "cell_type": "code",
      "source": [
        "bert_model = TFBertModel.from_pretrained('bert-base-uncased')"
      ],
      "metadata": {
        "colab": {
          "base_uri": "https://localhost:8080/"
        },
        "id": "d5Q8dTCGWdMz",
        "outputId": "0fa5e7cf-334e-4051-a465-756d19f66446"
      },
      "execution_count": 17,
      "outputs": [
        {
          "output_type": "stream",
          "name": "stderr",
          "text": [
            "Some weights of the PyTorch model were not used when initializing the TF 2.0 model TFBertModel: ['cls.predictions.transform.LayerNorm.weight', 'cls.predictions.transform.dense.weight', 'cls.seq_relationship.weight', 'cls.predictions.bias', 'cls.predictions.transform.LayerNorm.bias', 'cls.seq_relationship.bias', 'cls.predictions.transform.dense.bias']\n",
            "- This IS expected if you are initializing TFBertModel from a PyTorch model trained on another task or with another architecture (e.g. initializing a TFBertForSequenceClassification model from a BertForPreTraining model).\n",
            "- This IS NOT expected if you are initializing TFBertModel from a PyTorch model that you expect to be exactly identical (e.g. initializing a TFBertForSequenceClassification model from a BertForSequenceClassification model).\n",
            "All the weights of TFBertModel were initialized from the PyTorch model.\n",
            "If your task is similar to the task the model of the checkpoint was trained on, you can already use TFBertModel for predictions without further training.\n"
          ]
        }
      ]
    },
    {
      "cell_type": "code",
      "source": [
        "from transformers import AutoTokenizer\n",
        "tokenizer = AutoTokenizer.from_pretrained('bert-base-uncased')"
      ],
      "metadata": {
        "id": "AVfoeJYuWjEz"
      },
      "execution_count": 19,
      "outputs": []
    },
    {
      "cell_type": "code",
      "source": [
        "X_train, X_test, Y_train, Y_test = train_test_split(data_text, data_label, stratify = data_label, test_size = 0.2, random_state =42)"
      ],
      "metadata": {
        "id": "45kkMB3dYUPd"
      },
      "execution_count": 20,
      "outputs": []
    },
    {
      "cell_type": "code",
      "source": [
        "def tokenize(X):\n",
        "\n",
        "    X = bert_tokenizer(\n",
        "        text = list(X),\n",
        "        add_special_tokens = True,\n",
        "        max_length = 100,\n",
        "        truncation = True,\n",
        "        padding = 'max_length',\n",
        "        return_tensors = 'tf',\n",
        "        return_token_type_ids = False,\n",
        "        return_attention_mask = True,\n",
        "        verbose = True\n",
        "        )\n",
        "    return X"
      ],
      "metadata": {
        "id": "IptTEWbbXTYz"
      },
      "execution_count": 21,
      "outputs": []
    },
    {
      "cell_type": "code",
      "source": [
        "X_train_token = tokenize(X_train)\n",
        "X_test_token = tokenize(X_test)\n",
        "maxlen=100\n",
        "X_train_token\n",
        "X_test_token"
      ],
      "metadata": {
        "colab": {
          "base_uri": "https://localhost:8080/"
        },
        "id": "Ihb-BhcoXYZz",
        "outputId": "b83edb46-e052-4610-ba44-a8a1fb51d9ab"
      },
      "execution_count": 42,
      "outputs": [
        {
          "output_type": "execute_result",
          "data": {
            "text/plain": [
              "{'input_ids': <tf.Tensor: shape=(90, 100), dtype=int32, numpy=\n",
              "array([[  101,  1999, 16012, ...,     0,     0,     0],\n",
              "       [  101,  1045,  2052, ...,  2026,  2155,   102],\n",
              "       [  101,  2511,  2011, ...,     0,     0,     0],\n",
              "       ...,\n",
              "       [  101,  2330,  2278, ...,     0,     0,     0],\n",
              "       [  101,  2004,  7203, ...,     0,     0,     0],\n",
              "       [  101,  2000,  3058, ...,  1024,  1528,   102]], dtype=int32)>, 'attention_mask': <tf.Tensor: shape=(90, 100), dtype=int32, numpy=\n",
              "array([[1, 1, 1, ..., 0, 0, 0],\n",
              "       [1, 1, 1, ..., 1, 1, 1],\n",
              "       [1, 1, 1, ..., 0, 0, 0],\n",
              "       ...,\n",
              "       [1, 1, 1, ..., 0, 0, 0],\n",
              "       [1, 1, 1, ..., 0, 0, 0],\n",
              "       [1, 1, 1, ..., 1, 1, 1]], dtype=int32)>}"
            ]
          },
          "metadata": {},
          "execution_count": 42
        }
      ]
    },
    {
      "cell_type": "code",
      "source": [
        "from transformers import BertTokenizer, TFBertModel\n",
        "def create_model():\n",
        "    dropout_rate=0.2\n",
        "    input_ids=Input(shape=(maxlen,),dtype=tf.int32)\n",
        "    input_mask=Input(shape=(maxlen,),dtype=tf.int32)\n",
        "    bert_layer=bert_model([input_ids,input_mask])[1]\n",
        "    x=Dropout(0.5)(bert_layer)\n",
        "    x=Dense(64,activation=\"tanh\")(x)\n",
        "    x=Dropout(0.2)(x)\n",
        "    x=Dense(1,activation=\"sigmoid\")(x)\n",
        "    model = Model(inputs=[input_ids, input_mask], outputs=x)\n",
        "    return model"
      ],
      "metadata": {
        "id": "RSbC5csBUgQ_"
      },
      "execution_count": 60,
      "outputs": []
    },
    {
      "cell_type": "code",
      "source": [
        "model=create_model()\n",
        "model.summary()"
      ],
      "metadata": {
        "colab": {
          "base_uri": "https://localhost:8080/"
        },
        "id": "ZjjWQbcaYhOs",
        "outputId": "1b62a21e-f63a-4b94-b0d1-cc56153f2c0a"
      },
      "execution_count": 61,
      "outputs": [
        {
          "output_type": "stream",
          "name": "stdout",
          "text": [
            "Model: \"model_3\"\n",
            "__________________________________________________________________________________________________\n",
            " Layer (type)                Output Shape                 Param #   Connected to                  \n",
            "==================================================================================================\n",
            " input_7 (InputLayer)        [(None, 100)]                0         []                            \n",
            "                                                                                                  \n",
            " input_8 (InputLayer)        [(None, 100)]                0         []                            \n",
            "                                                                                                  \n",
            " tf_bert_model (TFBertModel  TFBaseModelOutputWithPooli   1094822   ['input_7[0][0]',             \n",
            " )                           ngAndCrossAttentions(last_   40         'input_8[0][0]']             \n",
            "                             hidden_state=(None, 100, 7                                           \n",
            "                             68),                                                                 \n",
            "                              pooler_output=(None, 768)                                           \n",
            "                             , past_key_values=None, hi                                           \n",
            "                             dden_states=None, attentio                                           \n",
            "                             ns=None, cross_attentions=                                           \n",
            "                             None)                                                                \n",
            "                                                                                                  \n",
            " dropout_43 (Dropout)        (None, 768)                  0         ['tf_bert_model[3][1]']       \n",
            "                                                                                                  \n",
            " dense_6 (Dense)             (None, 64)                   49216     ['dropout_43[0][0]']          \n",
            "                                                                                                  \n",
            " dropout_44 (Dropout)        (None, 64)                   0         ['dense_6[0][0]']             \n",
            "                                                                                                  \n",
            " dense_7 (Dense)             (None, 1)                    65        ['dropout_44[0][0]']          \n",
            "                                                                                                  \n",
            "==================================================================================================\n",
            "Total params: 109531521 (417.83 MB)\n",
            "Trainable params: 109531521 (417.83 MB)\n",
            "Non-trainable params: 0 (0.00 Byte)\n",
            "__________________________________________________________________________________________________\n"
          ]
        }
      ]
    },
    {
      "cell_type": "code",
      "source": [
        "from transformers import BertTokenizer, TFBertModel\n",
        "import tensorflow as tf\n",
        "from tensorflow.keras.layers import Input, Dropout, Dense\n",
        "from tensorflow.keras.models import Model\n",
        "\n",
        "# Define a learning rate schedule (you can choose an appropriate schedule)\n",
        "learning_rate_schedule = tf.keras.optimizers.schedules.ExponentialDecay(\n",
        "    initial_learning_rate=1e-05,\n",
        "    decay_steps=20,  # Adjust the decay steps as needed\n",
        "    decay_rate=0.01,\n",
        ")\n",
        "\n",
        "# Create the Adam optimizer with the learning rate schedule\n",
        "optimizer = tf.keras.optimizers.Adam(learning_rate=learning_rate_schedule, epsilon=1e-08, clipnorm=1.0)\n",
        "\n",
        "# Compile your model\n",
        "model.compile(optimizer=optimizer, loss='binary_crossentropy', metrics=['accuracy'])"
      ],
      "metadata": {
        "id": "8-6fCYnhYvQz"
      },
      "execution_count": 62,
      "outputs": []
    },
    {
      "cell_type": "code",
      "source": [
        "callback = tf.keras.callbacks.EarlyStopping(monitor='val_loss', mode='max', verbose=1, patience=50,\n",
        "                                            baseline=0.4,min_delta=0.0001,restore_best_weights=False)\n",
        "callback"
      ],
      "metadata": {
        "colab": {
          "base_uri": "https://localhost:8080/"
        },
        "id": "_46QRlv0ZoVj",
        "outputId": "c94c724b-aa33-45b8-c102-eed5020ac081"
      },
      "execution_count": 63,
      "outputs": [
        {
          "output_type": "execute_result",
          "data": {
            "text/plain": [
              "<keras.src.callbacks.EarlyStopping at 0x79ce9487a4a0>"
            ]
          },
          "metadata": {},
          "execution_count": 63
        }
      ]
    },
    {
      "cell_type": "code",
      "source": [
        "history = model.fit(x = {'input_7':X_train_token['input_ids'],'input_8':X_train_token['attention_mask']},\n",
        "                    y = Y_train, epochs=100, validation_split = 0.2, batch_size = 30, callbacks=[callback])"
      ],
      "metadata": {
        "colab": {
          "base_uri": "https://localhost:8080/"
        },
        "id": "r3UMhvRbZqai",
        "outputId": "6e42f580-cbdd-4083-82a8-0bbe34f00779"
      },
      "execution_count": 64,
      "outputs": [
        {
          "output_type": "stream",
          "name": "stdout",
          "text": [
            "Epoch 1/100\n",
            "10/10 [==============================] - 105s 1s/step - loss: 0.5742 - accuracy: 0.6982 - val_loss: 0.4688 - val_accuracy: 0.8472\n",
            "Epoch 2/100\n",
            "10/10 [==============================] - 7s 690ms/step - loss: 0.4092 - accuracy: 0.8877 - val_loss: 0.4470 - val_accuracy: 0.8472\n",
            "Epoch 3/100\n",
            "10/10 [==============================] - 7s 721ms/step - loss: 0.4401 - accuracy: 0.8386 - val_loss: 0.4444 - val_accuracy: 0.8472\n",
            "Epoch 4/100\n",
            "10/10 [==============================] - 7s 692ms/step - loss: 0.4172 - accuracy: 0.8561 - val_loss: 0.4441 - val_accuracy: 0.8472\n",
            "Epoch 5/100\n",
            "10/10 [==============================] - 8s 770ms/step - loss: 0.4002 - accuracy: 0.8667 - val_loss: 0.4441 - val_accuracy: 0.8472\n",
            "Epoch 6/100\n",
            "10/10 [==============================] - 7s 700ms/step - loss: 0.3913 - accuracy: 0.8737 - val_loss: 0.4441 - val_accuracy: 0.8472\n",
            "Epoch 7/100\n",
            "10/10 [==============================] - 7s 697ms/step - loss: 0.4126 - accuracy: 0.8772 - val_loss: 0.4441 - val_accuracy: 0.8472\n",
            "Epoch 8/100\n",
            "10/10 [==============================] - 7s 670ms/step - loss: 0.4177 - accuracy: 0.8561 - val_loss: 0.4441 - val_accuracy: 0.8472\n",
            "Epoch 9/100\n",
            "10/10 [==============================] - 7s 700ms/step - loss: 0.4161 - accuracy: 0.8667 - val_loss: 0.4441 - val_accuracy: 0.8472\n",
            "Epoch 10/100\n",
            "10/10 [==============================] - 7s 687ms/step - loss: 0.3916 - accuracy: 0.8807 - val_loss: 0.4441 - val_accuracy: 0.8472\n",
            "Epoch 11/100\n",
            "10/10 [==============================] - 7s 720ms/step - loss: 0.4188 - accuracy: 0.8667 - val_loss: 0.4441 - val_accuracy: 0.8472\n",
            "Epoch 12/100\n",
            "10/10 [==============================] - 7s 686ms/step - loss: 0.4155 - accuracy: 0.8526 - val_loss: 0.4441 - val_accuracy: 0.8472\n",
            "Epoch 13/100\n",
            "10/10 [==============================] - 7s 719ms/step - loss: 0.3924 - accuracy: 0.8807 - val_loss: 0.4441 - val_accuracy: 0.8472\n",
            "Epoch 14/100\n",
            "10/10 [==============================] - 7s 688ms/step - loss: 0.4114 - accuracy: 0.8737 - val_loss: 0.4441 - val_accuracy: 0.8472\n",
            "Epoch 15/100\n",
            "10/10 [==============================] - 7s 720ms/step - loss: 0.4022 - accuracy: 0.8737 - val_loss: 0.4441 - val_accuracy: 0.8472\n",
            "Epoch 16/100\n",
            "10/10 [==============================] - 7s 665ms/step - loss: 0.4298 - accuracy: 0.8140 - val_loss: 0.4441 - val_accuracy: 0.8472\n",
            "Epoch 17/100\n",
            "10/10 [==============================] - 7s 716ms/step - loss: 0.4022 - accuracy: 0.8842 - val_loss: 0.4441 - val_accuracy: 0.8472\n",
            "Epoch 18/100\n",
            "10/10 [==============================] - 7s 673ms/step - loss: 0.4437 - accuracy: 0.8105 - val_loss: 0.4441 - val_accuracy: 0.8472\n",
            "Epoch 19/100\n",
            "10/10 [==============================] - 7s 688ms/step - loss: 0.3989 - accuracy: 0.8596 - val_loss: 0.4441 - val_accuracy: 0.8472\n",
            "Epoch 20/100\n",
            "10/10 [==============================] - 7s 664ms/step - loss: 0.4280 - accuracy: 0.8456 - val_loss: 0.4441 - val_accuracy: 0.8472\n",
            "Epoch 21/100\n",
            "10/10 [==============================] - 7s 685ms/step - loss: 0.4073 - accuracy: 0.8842 - val_loss: 0.4441 - val_accuracy: 0.8472\n",
            "Epoch 22/100\n",
            "10/10 [==============================] - 7s 658ms/step - loss: 0.4259 - accuracy: 0.8596 - val_loss: 0.4441 - val_accuracy: 0.8472\n",
            "Epoch 23/100\n",
            "10/10 [==============================] - 7s 689ms/step - loss: 0.4051 - accuracy: 0.8596 - val_loss: 0.4441 - val_accuracy: 0.8472\n",
            "Epoch 24/100\n",
            "10/10 [==============================] - 7s 671ms/step - loss: 0.3880 - accuracy: 0.8982 - val_loss: 0.4441 - val_accuracy: 0.8472\n",
            "Epoch 25/100\n",
            "10/10 [==============================] - 7s 709ms/step - loss: 0.3988 - accuracy: 0.8772 - val_loss: 0.4441 - val_accuracy: 0.8472\n",
            "Epoch 26/100\n",
            "10/10 [==============================] - 7s 676ms/step - loss: 0.4108 - accuracy: 0.8526 - val_loss: 0.4441 - val_accuracy: 0.8472\n",
            "Epoch 27/100\n",
            "10/10 [==============================] - 7s 690ms/step - loss: 0.3956 - accuracy: 0.8807 - val_loss: 0.4441 - val_accuracy: 0.8472\n",
            "Epoch 28/100\n",
            "10/10 [==============================] - 7s 675ms/step - loss: 0.4130 - accuracy: 0.8596 - val_loss: 0.4441 - val_accuracy: 0.8472\n",
            "Epoch 29/100\n",
            "10/10 [==============================] - 7s 666ms/step - loss: 0.4141 - accuracy: 0.8807 - val_loss: 0.4441 - val_accuracy: 0.8472\n",
            "Epoch 30/100\n",
            "10/10 [==============================] - 7s 670ms/step - loss: 0.3991 - accuracy: 0.8456 - val_loss: 0.4441 - val_accuracy: 0.8472\n",
            "Epoch 31/100\n",
            "10/10 [==============================] - 7s 701ms/step - loss: 0.3947 - accuracy: 0.9053 - val_loss: 0.4441 - val_accuracy: 0.8472\n",
            "Epoch 32/100\n",
            "10/10 [==============================] - 7s 683ms/step - loss: 0.4085 - accuracy: 0.8421 - val_loss: 0.4441 - val_accuracy: 0.8472\n",
            "Epoch 33/100\n",
            "10/10 [==============================] - 7s 708ms/step - loss: 0.4057 - accuracy: 0.8772 - val_loss: 0.4441 - val_accuracy: 0.8472\n",
            "Epoch 34/100\n",
            "10/10 [==============================] - 7s 655ms/step - loss: 0.4035 - accuracy: 0.8702 - val_loss: 0.4441 - val_accuracy: 0.8472\n",
            "Epoch 35/100\n",
            "10/10 [==============================] - 7s 710ms/step - loss: 0.4121 - accuracy: 0.8386 - val_loss: 0.4441 - val_accuracy: 0.8472\n",
            "Epoch 36/100\n",
            "10/10 [==============================] - 7s 667ms/step - loss: 0.4017 - accuracy: 0.8702 - val_loss: 0.4441 - val_accuracy: 0.8472\n",
            "Epoch 37/100\n",
            "10/10 [==============================] - 7s 724ms/step - loss: 0.3934 - accuracy: 0.8947 - val_loss: 0.4441 - val_accuracy: 0.8472\n",
            "Epoch 38/100\n",
            "10/10 [==============================] - 7s 672ms/step - loss: 0.4232 - accuracy: 0.8456 - val_loss: 0.4441 - val_accuracy: 0.8472\n",
            "Epoch 39/100\n",
            "10/10 [==============================] - 7s 714ms/step - loss: 0.3771 - accuracy: 0.8877 - val_loss: 0.4441 - val_accuracy: 0.8472\n",
            "Epoch 40/100\n",
            "10/10 [==============================] - 7s 661ms/step - loss: 0.3771 - accuracy: 0.8947 - val_loss: 0.4441 - val_accuracy: 0.8472\n",
            "Epoch 41/100\n",
            "10/10 [==============================] - 7s 691ms/step - loss: 0.4108 - accuracy: 0.8947 - val_loss: 0.4441 - val_accuracy: 0.8472\n",
            "Epoch 42/100\n",
            "10/10 [==============================] - 7s 662ms/step - loss: 0.4008 - accuracy: 0.8772 - val_loss: 0.4441 - val_accuracy: 0.8472\n",
            "Epoch 43/100\n",
            "10/10 [==============================] - 7s 658ms/step - loss: 0.4210 - accuracy: 0.8561 - val_loss: 0.4441 - val_accuracy: 0.8472\n",
            "Epoch 44/100\n",
            "10/10 [==============================] - 7s 665ms/step - loss: 0.4327 - accuracy: 0.8526 - val_loss: 0.4441 - val_accuracy: 0.8472\n",
            "Epoch 45/100\n",
            "10/10 [==============================] - 7s 698ms/step - loss: 0.4153 - accuracy: 0.8456 - val_loss: 0.4441 - val_accuracy: 0.8472\n",
            "Epoch 46/100\n",
            "10/10 [==============================] - 7s 665ms/step - loss: 0.4153 - accuracy: 0.8561 - val_loss: 0.4441 - val_accuracy: 0.8472\n",
            "Epoch 47/100\n",
            "10/10 [==============================] - 7s 656ms/step - loss: 0.4332 - accuracy: 0.8386 - val_loss: 0.4441 - val_accuracy: 0.8472\n",
            "Epoch 48/100\n",
            "10/10 [==============================] - 7s 669ms/step - loss: 0.3684 - accuracy: 0.8947 - val_loss: 0.4441 - val_accuracy: 0.8472\n",
            "Epoch 49/100\n",
            "10/10 [==============================] - 7s 683ms/step - loss: 0.3953 - accuracy: 0.8912 - val_loss: 0.4441 - val_accuracy: 0.8472\n",
            "Epoch 50/100\n",
            "10/10 [==============================] - 7s 655ms/step - loss: 0.4001 - accuracy: 0.8526 - val_loss: 0.4441 - val_accuracy: 0.8472\n",
            "Epoch 51/100\n",
            "10/10 [==============================] - 7s 670ms/step - loss: 0.4192 - accuracy: 0.8421 - val_loss: 0.4441 - val_accuracy: 0.8472\n",
            "Epoch 51: early stopping\n"
          ]
        }
      ]
    },
    {
      "cell_type": "code",
      "source": [
        "from matplotlib import pyplot as plt"
      ],
      "metadata": {
        "id": "PlTcwcVhaggB"
      },
      "execution_count": 65,
      "outputs": []
    },
    {
      "cell_type": "code",
      "source": [
        "# summarize history for accuracy\n",
        "plt.plot(history.history['accuracy'])\n",
        "plt.plot(history.history['val_accuracy'])\n",
        "plt.title('model accuracy')\n",
        "plt.ylabel('Accuracy')\n",
        "plt.xlabel('Epoch')\n",
        "plt.legend(['train', 'test'], loc='upper left')\n",
        "plt.show()"
      ],
      "metadata": {
        "colab": {
          "base_uri": "https://localhost:8080/",
          "height": 472
        },
        "id": "K0QjiUwEalhZ",
        "outputId": "b6cdbb34-b859-4cd5-c422-deec4c2e9e16"
      },
      "execution_count": 67,
      "outputs": [
        {
          "output_type": "display_data",
          "data": {
            "text/plain": [
              "<Figure size 640x480 with 1 Axes>"
            ],
            "image/png": "[encoded data removed]"
          },
          "metadata": {}
        }
      ]
    },
    {
      "cell_type": "code",
      "source": [
        "# summarize history for loss\n",
        "plt.plot(history.history['loss'])\n",
        "plt.plot(history.history['val_loss'])\n",
        "plt.title('model loss')\n",
        "plt.ylabel('Loss')\n",
        "plt.xlabel('Epoch')\n",
        "plt.legend(['train', 'test'], loc='upper left')\n",
        "plt.show()"
      ],
      "metadata": {
        "colab": {
          "base_uri": "https://localhost:8080/",
          "height": 472
        },
        "id": "0Ulv3QUPat-h",
        "outputId": "c2268bde-6c25-4fc6-edea-3f4c62a52b24"
      },
      "execution_count": 68,
      "outputs": [
        {
          "output_type": "display_data",
          "data": {
            "text/plain": [
              "<Figure size 640x480 with 1 Axes>"
            ],
            "image/png": "[encoded data removed]"
          },
          "metadata": {}
        }
      ]
    },
    {
      "cell_type": "code",
      "source": [
        "import numpy as np\n",
        "y_pred = np.where(model.predict({ 'input_7' : X_test_token['input_ids'] , 'input_8' : X_test_token['attention_mask']}) >=0.5,1,0)\n",
        "y_pred"
      ],
      "metadata": {
        "colab": {
          "base_uri": "https://localhost:8080/"
        },
        "id": "qMPwYCxYaxXq",
        "outputId": "e64eb4ec-4ca6-4efc-d7ef-c5300e405430"
      },
      "execution_count": 70,
      "outputs": [
        {
          "output_type": "stream",
          "name": "stdout",
          "text": [
            "3/3 [==============================] - 5s 228ms/step\n"
          ]
        },
        {
          "output_type": "execute_result",
          "data": {
            "text/plain": [
              "array([[1],\n",
              "       [1],\n",
              "       [1],\n",
              "       [1],\n",
              "       [1],\n",
              "       [1],\n",
              "       [1],\n",
              "       [0],\n",
              "       [1],\n",
              "       [0],\n",
              "       [1],\n",
              "       [1],\n",
              "       [0],\n",
              "       [1],\n",
              "       [1],\n",
              "       [1],\n",
              "       [0],\n",
              "       [0],\n",
              "       [0],\n",
              "       [0],\n",
              "       [1],\n",
              "       [0],\n",
              "       [0],\n",
              "       [0],\n",
              "       [0],\n",
              "       [1],\n",
              "       [0],\n",
              "       [1],\n",
              "       [1],\n",
              "       [1],\n",
              "       [1],\n",
              "       [1],\n",
              "       [1],\n",
              "       [1],\n",
              "       [0],\n",
              "       [1],\n",
              "       [1],\n",
              "       [0],\n",
              "       [1],\n",
              "       [1],\n",
              "       [0],\n",
              "       [0],\n",
              "       [1],\n",
              "       [1],\n",
              "       [1],\n",
              "       [0],\n",
              "       [0],\n",
              "       [1],\n",
              "       [0],\n",
              "       [1],\n",
              "       [1],\n",
              "       [0],\n",
              "       [1],\n",
              "       [1],\n",
              "       [1],\n",
              "       [1],\n",
              "       [0],\n",
              "       [1],\n",
              "       [0],\n",
              "       [1],\n",
              "       [0],\n",
              "       [1],\n",
              "       [0],\n",
              "       [1],\n",
              "       [1],\n",
              "       [1],\n",
              "       [1],\n",
              "       [1],\n",
              "       [0],\n",
              "       [0],\n",
              "       [0],\n",
              "       [1],\n",
              "       [1],\n",
              "       [1],\n",
              "       [0],\n",
              "       [1],\n",
              "       [1],\n",
              "       [1],\n",
              "       [1],\n",
              "       [0],\n",
              "       [1],\n",
              "       [1],\n",
              "       [1],\n",
              "       [0],\n",
              "       [0],\n",
              "       [0],\n",
              "       [1],\n",
              "       [1],\n",
              "       [1],\n",
              "       [0]])"
            ]
          },
          "metadata": {},
          "execution_count": 70
        }
      ]
    },
    {
      "cell_type": "code",
      "source": [
        "from mlxtend.plotting import plot_confusion_matrix\n",
        "conf_matrix = confusion_matrix(Y_test,y_pred)\n",
        "fig, ax = plot_confusion_matrix(conf_mat=conf_matrix, figsize=(6, 6), cmap=plt.cm.Blues)\n",
        "plt.xlabel('Predictions', fontsize=18)\n",
        "plt.ylabel('Actuals', fontsize=18)\n",
        "plt.title('Confusion Matrix', fontsize=18)\n",
        "plt.show()"
      ],
      "metadata": {
        "colab": {
          "base_uri": "https://localhost:8080/",
          "height": 579
        },
        "id": "8A4Zjak8a2PK",
        "outputId": "773b0efa-0291-4ca0-a146-6a68f8e2bf80"
      },
      "execution_count": 71,
      "outputs": [
        {
          "output_type": "display_data",
          "data": {
            "text/plain": [
              "<Figure size 600x600 with 1 Axes>"
            ],
            "image/png": "[encoded data removed]"
          },
          "metadata": {}
        }
      ]
    },
    {
      "cell_type": "code",
      "source": [
        "print(classification_report(Y_test,y_pred))"
      ],
      "metadata": {
        "colab": {
          "base_uri": "https://localhost:8080/"
        },
        "id": "k52U4Z-IbCbc",
        "outputId": "a9889508-f5c7-49dd-f878-33681aee1dcb"
      },
      "execution_count": 72,
      "outputs": [
        {
          "output_type": "stream",
          "name": "stdout",
          "text": [
            "              precision    recall  f1-score   support\n",
            "\n",
            "           0       1.00      0.73      0.85        45\n",
            "           1       0.79      1.00      0.88        45\n",
            "\n",
            "    accuracy                           0.87        90\n",
            "   macro avg       0.89      0.87      0.86        90\n",
            "weighted avg       0.89      0.87      0.86        90\n",
            "\n"
          ]
        }
      ]
    },
    {
      "cell_type": "markdown",
      "source": [
        "  **Customize data test or knowledge representaion**\n"
      ],
      "metadata": {
        "id": "f8GwLaexbRrD"
      }
    },
    {
      "cell_type": "code",
      "source": [
        "test_text= \"An  equalizer  is  an  apparatus  to  revise  frequency properties. This is used to make a sound to expect by music  production.  There  are  two  kind  equalizers:  a graphic equalizer and a parametric equalizer. A graphic  equalizer  is  fixed  a  central  frequency, bandwidth and Q (explain  below) to control. We can attenuate  and  amplify  specific  frequency  bands. There  are  multiple  frequency  bands  that  we  can control.\""
      ],
      "metadata": {
        "id": "gyNyT0F2bYBL"
      },
      "execution_count": 73,
      "outputs": []
    },
    {
      "cell_type": "code",
      "source": [
        "test_token = tokenize(test_text)\n",
        "test_token"
      ],
      "metadata": {
        "colab": {
          "base_uri": "https://localhost:8080/"
        },
        "id": "nY7J05z9cK85",
        "outputId": "b7b1945e-34af-4426-9129-2413b716bab0"
      },
      "execution_count": 74,
      "outputs": [
        {
          "output_type": "execute_result",
          "data": {
            "text/plain": [
              "{'input_ids': <tf.Tensor: shape=(437, 100), dtype=int32, numpy=\n",
              "array([[ 101, 1037,  102, ...,    0,    0,    0],\n",
              "       [ 101, 1050,  102, ...,    0,    0,    0],\n",
              "       [ 101,  102,    0, ...,    0,    0,    0],\n",
              "       ...,\n",
              "       [ 101, 1051,  102, ...,    0,    0,    0],\n",
              "       [ 101, 1048,  102, ...,    0,    0,    0],\n",
              "       [ 101, 1012,  102, ...,    0,    0,    0]], dtype=int32)>, 'attention_mask': <tf.Tensor: shape=(437, 100), dtype=int32, numpy=\n",
              "array([[1, 1, 1, ..., 0, 0, 0],\n",
              "       [1, 1, 1, ..., 0, 0, 0],\n",
              "       [1, 1, 0, ..., 0, 0, 0],\n",
              "       ...,\n",
              "       [1, 1, 1, ..., 0, 0, 0],\n",
              "       [1, 1, 1, ..., 0, 0, 0],\n",
              "       [1, 1, 1, ..., 0, 0, 0]], dtype=int32)>}"
            ]
          },
          "metadata": {},
          "execution_count": 74
        }
      ]
    },
    {
      "cell_type": "code",
      "source": [
        "test_text_pred = np.where(model.predict({ 'input_7' : test_token['input_ids'] , 'input_8' : test_token['attention_mask']}) >=0.5,1,0)"
      ],
      "metadata": {
        "colab": {
          "base_uri": "https://localhost:8080/"
        },
        "id": "vBqVzNvXcR7w",
        "outputId": "a3e60ea0-d533-4b75-9e6d-48fd2c1a7439"
      },
      "execution_count": 76,
      "outputs": [
        {
          "output_type": "stream",
          "name": "stdout",
          "text": [
            "14/14 [==============================] - 3s 224ms/step\n"
          ]
        }
      ]
    },
    {
      "cell_type": "code",
      "source": [
        "test_text_pred"
      ],
      "metadata": {
        "colab": {
          "base_uri": "https://localhost:8080/"
        },
        "id": "BQAPYBhocXYJ",
        "outputId": "cc39576e-6566-4f71-d857-47c30c3922cf"
      },
      "execution_count": 77,
      "outputs": [
        {
          "output_type": "execute_result",
          "data": {
            "text/plain": [
              "array([[0],\n",
              "       [0],\n",
              "       [0],\n",
              "       [0],\n",
              "       [0],\n",
              "       [0],\n",
              "       [0],\n",
              "       [0],\n",
              "       [0],\n",
              "       [0],\n",
              "       [0],\n",
              "       [0],\n",
              "       [0],\n",
              "       [0],\n",
              "       [0],\n",
              "       [0],\n",
              "       [0],\n",
              "       [0],\n",
              "       [0],\n",
              "       [0],\n",
              "       [0],\n",
              "       [0],\n",
              "       [0],\n",
              "       [0],\n",
              "       [0],\n",
              "       [0],\n",
              "       [0],\n",
              "       [0],\n",
              "       [0],\n",
              "       [0],\n",
              "       [0],\n",
              "       [0],\n",
              "       [0],\n",
              "       [0],\n",
              "       [0],\n",
              "       [0],\n",
              "       [0],\n",
              "       [0],\n",
              "       [0],\n",
              "       [0],\n",
              "       [0],\n",
              "       [0],\n",
              "       [0],\n",
              "       [0],\n",
              "       [0],\n",
              "       [0],\n",
              "       [0],\n",
              "       [0],\n",
              "       [0],\n",
              "       [0],\n",
              "       [0],\n",
              "       [0],\n",
              "       [0],\n",
              "       [0],\n",
              "       [0],\n",
              "       [0],\n",
              "       [0],\n",
              "       [0],\n",
              "       [0],\n",
              "       [0],\n",
              "       [0],\n",
              "       [0],\n",
              "       [0],\n",
              "       [0],\n",
              "       [0],\n",
              "       [0],\n",
              "       [0],\n",
              "       [0],\n",
              "       [0],\n",
              "       [0],\n",
              "       [0],\n",
              "       [0],\n",
              "       [0],\n",
              "       [0],\n",
              "       [0],\n",
              "       [0],\n",
              "       [0],\n",
              "       [0],\n",
              "       [0],\n",
              "       [0],\n",
              "       [0],\n",
              "       [0],\n",
              "       [0],\n",
              "       [0],\n",
              "       [0],\n",
              "       [0],\n",
              "       [0],\n",
              "       [0],\n",
              "       [0],\n",
              "       [0],\n",
              "       [0],\n",
              "       [0],\n",
              "       [0],\n",
              "       [0],\n",
              "       [0],\n",
              "       [0],\n",
              "       [0],\n",
              "       [0],\n",
              "       [0],\n",
              "       [0],\n",
              "       [0],\n",
              "       [0],\n",
              "       [0],\n",
              "       [0],\n",
              "       [0],\n",
              "       [0],\n",
              "       [0],\n",
              "       [0],\n",
              "       [0],\n",
              "       [0],\n",
              "       [0],\n",
              "       [0],\n",
              "       [0],\n",
              "       [0],\n",
              "       [0],\n",
              "       [0],\n",
              "       [0],\n",
              "       [0],\n",
              "       [0],\n",
              "       [0],\n",
              "       [0],\n",
              "       [0],\n",
              "       [0],\n",
              "       [0],\n",
              "       [0],\n",
              "       [0],\n",
              "       [0],\n",
              "       [0],\n",
              "       [0],\n",
              "       [0],\n",
              "       [0],\n",
              "       [0],\n",
              "       [0],\n",
              "       [0],\n",
              "       [0],\n",
              "       [0],\n",
              "       [0],\n",
              "       [0],\n",
              "       [0],\n",
              "       [0],\n",
              "       [0],\n",
              "       [0],\n",
              "       [0],\n",
              "       [0],\n",
              "       [0],\n",
              "       [0],\n",
              "       [0],\n",
              "       [0],\n",
              "       [0],\n",
              "       [0],\n",
              "       [0],\n",
              "       [0],\n",
              "       [0],\n",
              "       [0],\n",
              "       [0],\n",
              "       [0],\n",
              "       [0],\n",
              "       [0],\n",
              "       [0],\n",
              "       [0],\n",
              "       [0],\n",
              "       [0],\n",
              "       [0],\n",
              "       [0],\n",
              "       [0],\n",
              "       [0],\n",
              "       [0],\n",
              "       [0],\n",
              "       [0],\n",
              "       [0],\n",
              "       [0],\n",
              "       [0],\n",
              "       [0],\n",
              "       [0],\n",
              "       [0],\n",
              "       [0],\n",
              "       [0],\n",
              "       [0],\n",
              "       [0],\n",
              "       [0],\n",
              "       [0],\n",
              "       [0],\n",
              "       [0],\n",
              "       [0],\n",
              "       [0],\n",
              "       [0],\n",
              "       [0],\n",
              "       [0],\n",
              "       [0],\n",
              "       [0],\n",
              "       [0],\n",
              "       [0],\n",
              "       [0],\n",
              "       [0],\n",
              "       [0],\n",
              "       [0],\n",
              "       [0],\n",
              "       [0],\n",
              "       [0],\n",
              "       [0],\n",
              "       [0],\n",
              "       [0],\n",
              "       [0],\n",
              "       [0],\n",
              "       [0],\n",
              "       [0],\n",
              "       [0],\n",
              "       [0],\n",
              "       [0],\n",
              "       [0],\n",
              "       [0],\n",
              "       [0],\n",
              "       [0],\n",
              "       [0],\n",
              "       [0],\n",
              "       [0],\n",
              "       [0],\n",
              "       [0],\n",
              "       [0],\n",
              "       [0],\n",
              "       [0],\n",
              "       [0],\n",
              "       [0],\n",
              "       [0],\n",
              "       [0],\n",
              "       [0],\n",
              "       [0],\n",
              "       [0],\n",
              "       [0],\n",
              "       [0],\n",
              "       [0],\n",
              "       [0],\n",
              "       [0],\n",
              "       [0],\n",
              "       [0],\n",
              "       [0],\n",
              "       [0],\n",
              "       [0],\n",
              "       [0],\n",
              "       [0],\n",
              "       [0],\n",
              "       [0],\n",
              "       [0],\n",
              "       [0],\n",
              "       [0],\n",
              "       [0],\n",
              "       [0],\n",
              "       [0],\n",
              "       [0],\n",
              "       [0],\n",
              "       [0],\n",
              "       [0],\n",
              "       [0],\n",
              "       [0],\n",
              "       [0],\n",
              "       [0],\n",
              "       [0],\n",
              "       [0],\n",
              "       [0],\n",
              "       [0],\n",
              "       [0],\n",
              "       [0],\n",
              "       [0],\n",
              "       [0],\n",
              "       [0],\n",
              "       [0],\n",
              "       [0],\n",
              "       [0],\n",
              "       [0],\n",
              "       [0],\n",
              "       [0],\n",
              "       [0],\n",
              "       [0],\n",
              "       [0],\n",
              "       [0],\n",
              "       [0],\n",
              "       [0],\n",
              "       [0],\n",
              "       [0],\n",
              "       [0],\n",
              "       [0],\n",
              "       [0],\n",
              "       [0],\n",
              "       [0],\n",
              "       [0],\n",
              "       [0],\n",
              "       [0],\n",
              "       [0],\n",
              "       [0],\n",
              "       [0],\n",
              "       [0],\n",
              "       [0],\n",
              "       [0],\n",
              "       [0],\n",
              "       [0],\n",
              "       [0],\n",
              "       [0],\n",
              "       [0],\n",
              "       [0],\n",
              "       [0],\n",
              "       [0],\n",
              "       [0],\n",
              "       [0],\n",
              "       [0],\n",
              "       [0],\n",
              "       [0],\n",
              "       [0],\n",
              "       [0],\n",
              "       [0],\n",
              "       [0],\n",
              "       [0],\n",
              "       [0],\n",
              "       [0],\n",
              "       [0],\n",
              "       [0],\n",
              "       [0],\n",
              "       [0],\n",
              "       [0],\n",
              "       [0],\n",
              "       [0],\n",
              "       [0],\n",
              "       [0],\n",
              "       [0],\n",
              "       [0],\n",
              "       [0],\n",
              "       [0],\n",
              "       [0],\n",
              "       [0],\n",
              "       [0],\n",
              "       [0],\n",
              "       [0],\n",
              "       [0],\n",
              "       [0],\n",
              "       [0],\n",
              "       [0],\n",
              "       [0],\n",
              "       [0],\n",
              "       [0],\n",
              "       [0],\n",
              "       [0],\n",
              "       [0],\n",
              "       [0],\n",
              "       [0],\n",
              "       [0],\n",
              "       [0],\n",
              "       [0],\n",
              "       [0],\n",
              "       [0],\n",
              "       [0],\n",
              "       [0],\n",
              "       [0],\n",
              "       [0],\n",
              "       [0],\n",
              "       [0],\n",
              "       [0],\n",
              "       [0],\n",
              "       [0],\n",
              "       [0],\n",
              "       [0],\n",
              "       [0],\n",
              "       [0],\n",
              "       [0],\n",
              "       [0],\n",
              "       [0],\n",
              "       [0],\n",
              "       [0],\n",
              "       [0],\n",
              "       [0],\n",
              "       [0],\n",
              "       [0],\n",
              "       [0],\n",
              "       [0],\n",
              "       [0],\n",
              "       [0],\n",
              "       [0],\n",
              "       [0],\n",
              "       [0],\n",
              "       [0],\n",
              "       [0],\n",
              "       [0],\n",
              "       [0],\n",
              "       [0],\n",
              "       [0],\n",
              "       [0],\n",
              "       [0],\n",
              "       [0],\n",
              "       [0],\n",
              "       [0],\n",
              "       [0],\n",
              "       [0],\n",
              "       [0],\n",
              "       [0],\n",
              "       [0],\n",
              "       [0],\n",
              "       [0],\n",
              "       [0],\n",
              "       [0],\n",
              "       [0],\n",
              "       [0],\n",
              "       [0],\n",
              "       [0],\n",
              "       [0],\n",
              "       [0],\n",
              "       [0],\n",
              "       [0],\n",
              "       [0],\n",
              "       [0],\n",
              "       [0],\n",
              "       [0],\n",
              "       [0],\n",
              "       [0],\n",
              "       [0],\n",
              "       [0],\n",
              "       [0],\n",
              "       [0],\n",
              "       [0],\n",
              "       [0],\n",
              "       [0],\n",
              "       [0],\n",
              "       [0],\n",
              "       [0],\n",
              "       [0],\n",
              "       [0],\n",
              "       [0],\n",
              "       [0],\n",
              "       [0],\n",
              "       [0],\n",
              "       [0],\n",
              "       [0],\n",
              "       [0],\n",
              "       [0],\n",
              "       [0],\n",
              "       [0],\n",
              "       [0],\n",
              "       [0],\n",
              "       [0],\n",
              "       [0]])"
            ]
          },
          "metadata": {},
          "execution_count": 77
        }
      ]
    },
    {
      "cell_type": "code",
      "source": [
        "if(test_text_pred[0]==0):\n",
        "    print(\"It is orginal\")\n",
        "else:\n",
        "    print(\"It is AI generated\")"
      ],
      "metadata": {
        "colab": {
          "base_uri": "https://localhost:8080/"
        },
        "id": "YlVK0UyYcgOj",
        "outputId": "58097862-aba4-48e7-f6b1-ce3986149165"
      },
      "execution_count": 78,
      "outputs": [
        {
          "output_type": "stream",
          "name": "stdout",
          "text": [
            "It is orginal\n"
          ]
        }
      ]
    }
  ]
}